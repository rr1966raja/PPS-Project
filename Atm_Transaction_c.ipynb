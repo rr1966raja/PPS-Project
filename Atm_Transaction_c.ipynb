{
  "nbformat": 4,
  "nbformat_minor": 0,
  "metadata": {
    "colab": {
      "name": "Atm_Transaction.c",
      "provenance": [],
      "authorship_tag": "ABX9TyMD2+Q0fHzpYJ6qeU5dNMC4",
      "include_colab_link": true
    },
    "kernelspec": {
      "name": "python3",
      "display_name": "Python 3"
    },
    "language_info": {
      "name": "python"
    }
  },
  "cells": [
    {
      "cell_type": "markdown",
      "metadata": {
        "id": "view-in-github",
        "colab_type": "text"
      },
      "source": [
        "<a href=\"https://colab.research.google.com/github/rr1966raja/PPS-Project/blob/main/Atm_Transaction_c.ipynb\" target=\"_parent\"><img src=\"https://colab.research.google.com/assets/colab-badge.svg\" alt=\"Open In Colab\"/></a>"
      ]
    },
    {
      "cell_type": "code",
      "execution_count": 15,
      "metadata": {
        "colab": {
          "base_uri": "https://localhost:8080/"
        },
        "id": "a8l0XU08LHKC",
        "outputId": "a273633d-06dd-4d00-ca64-e4e0f56177c2"
      },
      "outputs": [
        {
          "output_type": "stream",
          "name": "stdout",
          "text": [
            "Writing Atm_Transaction.c\n"
          ]
        }
      ],
      "source": [
        "%%writefile Atm_Transaction.c\n",
        "// MADE BY RATNESH KUMAR RAJA AND AAYUSH SINGH\n",
        "// C Program to Display the ATM Transaction\n",
        "\n",
        "#include <stdio.h> \n",
        "unsigned long amount=1000, deposit, withdraw;\n",
        "int choice, pin, k;\n",
        "char transaction ='y';\n",
        " \n",
        "void main()\n",
        "{\n",
        "\twhile (pin != 2703)\n",
        "\t{\n",
        "\t\tprintf(\"ENTER YOUR SECRET PIN NUMBER:\");\n",
        "\t\tscanf(\"%d\", &pin);\n",
        "\t\tif (pin != 2703)\n",
        "\t\tprintf(\"PLEASE ENTER VALID PASSWORD\\n\");\n",
        "\t}\n",
        "\tdo\n",
        "\t{\n",
        "\t\tprintf(\"***Welcome to ATM Service*****\\n\");\n",
        "\t\tprintf(\"1. Check Balance\\n\");\n",
        "\t\tprintf(\"2. Withdraw Cash\\n\");\n",
        "\t\tprintf(\"3. Deposit Cash\\n\");\n",
        "\t\tprintf(\"4. Quit\\n\");\n",
        "\t\tprintf(\"******?*********?\\n\\n\");\n",
        "\t\tprintf(\"Enter your choice: \");\n",
        "\t\tscanf(\"%d\", &choice);\n",
        "\t\tswitch (choice)\n",
        "\t\t{\n",
        "\t\tcase 1:\n",
        "\t\t\tprintf(\"\\n YOUR BALANCE IN Rs : %lu \", amount);\n",
        "\t\t\tbreak;\n",
        "\t\tcase 2:\n",
        "\t\t\tprintf(\"\\n ENTER THE AMOUNT TO WITHDRAW: \");\n",
        "\t\t\tscanf(\"%lu\", &withdraw);\n",
        "\t\t\tif (withdraw % 100 != 0)\n",
        "\t\t\t{\n",
        "\t\t\t\tprintf(\"\\n PLEASE ENTER THE AMOUNT IN MULTIPLES OF 100\");\n",
        "\t\t\t}\n",
        "\t\t\telse if (withdraw >(amount - 500))\n",
        "\t\t\t{\n",
        "\t\t\t\tprintf(\"\\n INSUFFICENT BALANCE\");\n",
        "\t\t\t}\n",
        "\t\t\telse\n",
        "\t\t\t{\n",
        "\t\t\t\tamount = amount - withdraw;\n",
        "\t\t\t\tprintf(\"\\n\\n PLEASE COLLECT CASH\");\n",
        "\t\t\t\tprintf(\"\\n YOUR CURRENT BALANCE IS%lu\", amount);\n",
        "\t\t\t}\n",
        "\t\t\tbreak;\n",
        "\t\tcase 3:\n",
        "\t\t\tprintf(\"\\n ENTER THE AMOUNT TO DEPOSIT\");\n",
        "\t\t\tscanf(\"%lu\", &deposit);\n",
        "                        amount = amount + deposit;\n",
        "\t\t\tprintf(\"YOUR BALANCE IS %lu\", amount);\n",
        "\t\t\tbreak;\n",
        "\t\tcase 4:\n",
        "\t\t\tprintf(\"\\n THANK U USING ATM\");\n",
        "\t\t\tbreak;\n",
        "\t\tdefault:\n",
        "\t\t\tprintf(\"\\n INVALID CHOICE\");\n",
        "\t\t}\n",
        "\t\tprintf(\"\\n\\n\\n DO U WISH TO HAVE ANOTHER TRANSCATION?(y/n): \\n\");\n",
        "\t\tfflush(stdin);\n",
        "\t\tscanf(\"%c\", &transaction);\n",
        "\t\tif (transaction == 'n'|| transaction == 'N')\n",
        "                    k = 1;\n",
        "\t} while (!k);\n",
        "\tprintf(\"\\n\\n THANKS FOR USING OUT ATM SERVICE\");\n",
        "}"
      ]
    },
    {
      "cell_type": "code",
      "source": [
        "%%shell\n",
        "gcc Atm_Transaction.c -o output\n",
        "./output"
      ],
      "metadata": {
        "colab": {
          "base_uri": "https://localhost:8080/",
          "height": 1000
        },
        "id": "183HVFleSBEv",
        "outputId": "e1c69948-f316-4115-b169-ceeb8ad91ee7"
      },
      "execution_count": 16,
      "outputs": [
        {
          "output_type": "stream",
          "name": "stdout",
          "text": [
            "ENTER YOUR SECRET PIN NUMBER:2703\n",
            "***Welcome to ATM Service*****\n",
            "1. Check Balance\n",
            "2. Withdraw Cash\n",
            "3. Deposit Cash\n",
            "4. Quit\n",
            "******?*********?\n",
            "\n",
            "Enter your choice: 1\n",
            "\n",
            " YOUR BALANCE IN Rs : 1000 \n",
            "\n",
            "\n",
            " DO U WISH TO HAVE ANOTHER TRANSCATION?(y/n): \n",
            "***Welcome to ATM Service*****\n",
            "1. Check Balance\n",
            "2. Withdraw Cash\n",
            "3. Deposit Cash\n",
            "4. Quit\n",
            "******?*********?\n",
            "\n",
            "Enter your choice: 4\n",
            "\n",
            " THANK U USING ATM\n",
            "\n",
            "\n",
            " DO U WISH TO HAVE ANOTHER TRANSCATION?(y/n): \n",
            "***Welcome to ATM Service*****\n",
            "1. Check Balance\n",
            "2. Withdraw Cash\n",
            "3. Deposit Cash\n",
            "4. Quit\n",
            "******?*********?\n",
            "\n",
            "Enter your choice: n\n",
            "\n",
            " THANK U USING ATM\n",
            "\n",
            "\n",
            " DO U WISH TO HAVE ANOTHER TRANSCATION?(y/n): \n",
            "\n",
            "\n",
            " THANKS FOR USING OUT ATM SERVICE"
          ]
        },
        {
          "output_type": "error",
          "ename": "CalledProcessError",
          "evalue": "ignored",
          "traceback": [
            "\u001b[0;31m---------------------------------------------------------------------------\u001b[0m",
            "\u001b[0;31mCalledProcessError\u001b[0m                        Traceback (most recent call last)",
            "\u001b[0;32m<ipython-input-16-df4d83f45872>\u001b[0m in \u001b[0;36m<module>\u001b[0;34m()\u001b[0m\n\u001b[0;32m----> 1\u001b[0;31m \u001b[0mget_ipython\u001b[0m\u001b[0;34m(\u001b[0m\u001b[0;34m)\u001b[0m\u001b[0;34m.\u001b[0m\u001b[0mrun_cell_magic\u001b[0m\u001b[0;34m(\u001b[0m\u001b[0;34m'shell'\u001b[0m\u001b[0;34m,\u001b[0m \u001b[0;34m''\u001b[0m\u001b[0;34m,\u001b[0m \u001b[0;34m'gcc Atm_Transaction.c -o output\\n./output'\u001b[0m\u001b[0;34m)\u001b[0m\u001b[0;34m\u001b[0m\u001b[0;34m\u001b[0m\u001b[0m\n\u001b[0m",
            "\u001b[0;32m/usr/local/lib/python3.7/dist-packages/IPython/core/interactiveshell.py\u001b[0m in \u001b[0;36mrun_cell_magic\u001b[0;34m(self, magic_name, line, cell)\u001b[0m\n\u001b[1;32m   2115\u001b[0m             \u001b[0mmagic_arg_s\u001b[0m \u001b[0;34m=\u001b[0m \u001b[0mself\u001b[0m\u001b[0;34m.\u001b[0m\u001b[0mvar_expand\u001b[0m\u001b[0;34m(\u001b[0m\u001b[0mline\u001b[0m\u001b[0;34m,\u001b[0m \u001b[0mstack_depth\u001b[0m\u001b[0;34m)\u001b[0m\u001b[0;34m\u001b[0m\u001b[0;34m\u001b[0m\u001b[0m\n\u001b[1;32m   2116\u001b[0m             \u001b[0;32mwith\u001b[0m \u001b[0mself\u001b[0m\u001b[0;34m.\u001b[0m\u001b[0mbuiltin_trap\u001b[0m\u001b[0;34m:\u001b[0m\u001b[0;34m\u001b[0m\u001b[0;34m\u001b[0m\u001b[0m\n\u001b[0;32m-> 2117\u001b[0;31m                 \u001b[0mresult\u001b[0m \u001b[0;34m=\u001b[0m \u001b[0mfn\u001b[0m\u001b[0;34m(\u001b[0m\u001b[0mmagic_arg_s\u001b[0m\u001b[0;34m,\u001b[0m \u001b[0mcell\u001b[0m\u001b[0;34m)\u001b[0m\u001b[0;34m\u001b[0m\u001b[0;34m\u001b[0m\u001b[0m\n\u001b[0m\u001b[1;32m   2118\u001b[0m             \u001b[0;32mreturn\u001b[0m \u001b[0mresult\u001b[0m\u001b[0;34m\u001b[0m\u001b[0;34m\u001b[0m\u001b[0m\n\u001b[1;32m   2119\u001b[0m \u001b[0;34m\u001b[0m\u001b[0m\n",
            "\u001b[0;32m/usr/local/lib/python3.7/dist-packages/google/colab/_system_commands.py\u001b[0m in \u001b[0;36m_shell_cell_magic\u001b[0;34m(args, cmd)\u001b[0m\n\u001b[1;32m    111\u001b[0m   \u001b[0mresult\u001b[0m \u001b[0;34m=\u001b[0m \u001b[0m_run_command\u001b[0m\u001b[0;34m(\u001b[0m\u001b[0mcmd\u001b[0m\u001b[0;34m,\u001b[0m \u001b[0mclear_streamed_output\u001b[0m\u001b[0;34m=\u001b[0m\u001b[0;32mFalse\u001b[0m\u001b[0;34m)\u001b[0m\u001b[0;34m\u001b[0m\u001b[0;34m\u001b[0m\u001b[0m\n\u001b[1;32m    112\u001b[0m   \u001b[0;32mif\u001b[0m \u001b[0;32mnot\u001b[0m \u001b[0mparsed_args\u001b[0m\u001b[0;34m.\u001b[0m\u001b[0mignore_errors\u001b[0m\u001b[0;34m:\u001b[0m\u001b[0;34m\u001b[0m\u001b[0;34m\u001b[0m\u001b[0m\n\u001b[0;32m--> 113\u001b[0;31m     \u001b[0mresult\u001b[0m\u001b[0;34m.\u001b[0m\u001b[0mcheck_returncode\u001b[0m\u001b[0;34m(\u001b[0m\u001b[0;34m)\u001b[0m\u001b[0;34m\u001b[0m\u001b[0;34m\u001b[0m\u001b[0m\n\u001b[0m\u001b[1;32m    114\u001b[0m   \u001b[0;32mreturn\u001b[0m \u001b[0mresult\u001b[0m\u001b[0;34m\u001b[0m\u001b[0;34m\u001b[0m\u001b[0m\n\u001b[1;32m    115\u001b[0m \u001b[0;34m\u001b[0m\u001b[0m\n",
            "\u001b[0;32m/usr/local/lib/python3.7/dist-packages/google/colab/_system_commands.py\u001b[0m in \u001b[0;36mcheck_returncode\u001b[0;34m(self)\u001b[0m\n\u001b[1;32m    137\u001b[0m     \u001b[0;32mif\u001b[0m \u001b[0mself\u001b[0m\u001b[0;34m.\u001b[0m\u001b[0mreturncode\u001b[0m\u001b[0;34m:\u001b[0m\u001b[0;34m\u001b[0m\u001b[0;34m\u001b[0m\u001b[0m\n\u001b[1;32m    138\u001b[0m       raise subprocess.CalledProcessError(\n\u001b[0;32m--> 139\u001b[0;31m           returncode=self.returncode, cmd=self.args, output=self.output)\n\u001b[0m\u001b[1;32m    140\u001b[0m \u001b[0;34m\u001b[0m\u001b[0m\n\u001b[1;32m    141\u001b[0m   \u001b[0;32mdef\u001b[0m \u001b[0m_repr_pretty_\u001b[0m\u001b[0;34m(\u001b[0m\u001b[0mself\u001b[0m\u001b[0;34m,\u001b[0m \u001b[0mp\u001b[0m\u001b[0;34m,\u001b[0m \u001b[0mcycle\u001b[0m\u001b[0;34m)\u001b[0m\u001b[0;34m:\u001b[0m  \u001b[0;31m# pylint:disable=unused-argument\u001b[0m\u001b[0;34m\u001b[0m\u001b[0;34m\u001b[0m\u001b[0m\n",
            "\u001b[0;31mCalledProcessError\u001b[0m: Command 'gcc Atm_Transaction.c -o output\n./output' returned non-zero exit status 35."
          ]
        }
      ]
    }
  ]
}