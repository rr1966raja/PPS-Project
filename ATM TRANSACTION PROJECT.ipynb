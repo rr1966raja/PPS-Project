{
  "nbformat": 4,
  "nbformat_minor": 0,
  "metadata": {
    "colab": {
      "name": "Untitled0.ipynb",
      "provenance": [],
      "authorship_tag": "ABX9TyNM/8Cy9s6t3BqcYaVG1JXb",
      "include_colab_link": true
    },
    "kernelspec": {
      "name": "python3",
      "display_name": "Python 3"
    },
    "language_info": {
      "name": "python"
    }
  },
  "cells": [
    {
      "cell_type": "markdown",
      "metadata": {
        "id": "view-in-github",
        "colab_type": "text"
      },
      "source": [
        "<a href=\"https://colab.research.google.com/github/rr1966raja/PPS-Project/blob/main/ATM%20TRANSACTION%20PROJECT.ipynb\" target=\"_parent\"><img src=\"https://colab.research.google.com/assets/colab-badge.svg\" alt=\"Open In Colab\"/></a>"
      ]
    },
    {
      "cell_type": "code",
      "execution_count": null,
      "metadata": {
        "colab": {
          "base_uri": "https://localhost:8080/",
          "height": 130
        },
        "id": "a8l0XU08LHKC",
        "outputId": "5053dba2-0c2e-4cda-8714-0e22e18bed4b"
      },
      "outputs": [
        {
          "output_type": "error",
          "ename": "SyntaxError",
          "evalue": "ignored",
          "traceback": [
            "\u001b[0;36m  File \u001b[0;32m\"<ipython-input-8-42ca68fc1ef6>\"\u001b[0;36m, line \u001b[0;32m6\u001b[0m\n\u001b[0;31m    unsigned long amount=1000, deposit, withdraw;\u001b[0m\n\u001b[0m                ^\u001b[0m\n\u001b[0;31mSyntaxError\u001b[0m\u001b[0;31m:\u001b[0m invalid syntax\n"
          ]
        }
      ],
      "source": [
        "\n",
        "\n",
        "\n",
        "#include <stdio.h>\n",
        " \n",
        "unsigned long amount=1000, deposit, withdraw;\n",
        "int choice, pin, k;\n",
        "char transaction ='y';\n",
        " \n",
        "void main()\n",
        "{\n",
        "\twhile (pin != 2703)\n",
        "\t{\n",
        "\t\tprintf(\"ENTER YOUR SECRET PIN NUMBER:\");\n",
        "\t\tscanf(\"%d\", &pin);\n",
        "\t\tif (pin != 2703)\n",
        "\t\tprintf(\"PLEASE ENTER VALID PASSWORD\\n\");\n",
        "\t}\n",
        "\tdo\n",
        "\t{\n",
        "\t\tprintf(\"***Welcome to ATM Service*****\\n\");\n",
        "\t\tprintf(\"1. Check Balance\\n\");\n",
        "\t\tprintf(\"2. Withdraw Cash\\n\");\n",
        "\t\tprintf(\"3. Deposit Cash\\n\");\n",
        "\t\tprintf(\"4. Quit\\n\");\n",
        "\t\tprintf(\"******?*********?\\n\\n\");\n",
        "\t\tprintf(\"Enter your choice: \");\n",
        "\t\tscanf(\"%d\", &choice);\n",
        "\t\tswitch (choice)\n",
        "\t\t{\n",
        "\t\tcase 1:\n",
        "\t\t\tprintf(\"\\n YOUR BALANCE IN Rs : %lu \", amount);\n",
        "\t\t\tbreak;\n",
        "\t\tcase 2:\n",
        "\t\t\tprintf(\"\\n ENTER THE AMOUNT TO WITHDRAW: \");\n",
        "\t\t\tscanf(\"%lu\", &withdraw);\n",
        "\t\t\tif (withdraw % 100 != 0)\n",
        "\t\t\t{\n",
        "\t\t\t\tprintf(\"\\n PLEASE ENTER THE AMOUNT IN MULTIPLES OF 100\");\n",
        "\t\t\t}\n",
        "\t\t\telse if (withdraw >(amount - 500))\n",
        "\t\t\t{\n",
        "\t\t\t\tprintf(\"\\n INSUFFICENT BALANCE\");\n",
        "\t\t\t}\n",
        "\t\t\telse\n",
        "\t\t\t{\n",
        "\t\t\t\tamount = amount - withdraw;\n",
        "\t\t\t\tprintf(\"\\n\\n PLEASE COLLECT CASH\");\n",
        "\t\t\t\tprintf(\"\\n YOUR CURRENT BALANCE IS%lu\", amount);\n",
        "\t\t\t}\n",
        "\t\t\tbreak;\n",
        "\t\tcase 3:\n",
        "\t\t\tprintf(\"\\n ENTER THE AMOUNT TO DEPOSIT\");\n",
        "\t\t\tscanf(\"%lu\", &deposit);\n",
        "                        amount = amount + deposit;\n",
        "\t\t\tprintf(\"YOUR BALANCE IS %lu\", amount);\n",
        "\t\t\tbreak;\n",
        "\t\tcase 4:\n",
        "\t\t\tprintf(\"\\n THANK U USING ATM\");\n",
        "\t\t\tbreak;\n",
        "\t\tdefault:\n",
        "\t\t\tprintf(\"\\n INVALID CHOICE\");\n",
        "\t\t}\n",
        "\t\tprintf(\"\\n\\n\\n DO U WISH TO HAVE ANOTHER TRANSCATION?(y/n): \\n\");\n",
        "\t\tfflush(stdin);\n",
        "\t\tscanf(\"%c\", &transaction);\n",
        "\t\tif (transaction == 'n'|| transaction == 'N')\n",
        "                    k = 1;\n",
        "\t} while (!k);\n",
        "\tprintf(\"\\n\\n THANKS FOR USING OUT ATM SERVICE\");\n",
        "}"
      ]
    }
  ]
}